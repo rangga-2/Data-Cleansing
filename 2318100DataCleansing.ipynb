{
  "nbformat": 4,
  "nbformat_minor": 0,
  "metadata": {
    "colab": {
      "provenance": [],
      "authorship_tag": "ABX9TyP1jxTwKNS0FcJ8URLFBt+9",
      "include_colab_link": true
    },
    "kernelspec": {
      "name": "python3",
      "display_name": "Python 3"
    },
    "language_info": {
      "name": "python"
    }
  },
  "cells": [
    {
      "cell_type": "markdown",
      "metadata": {
        "id": "view-in-github",
        "colab_type": "text"
      },
      "source": [
        "<a href=\"https://colab.research.google.com/github/rangga-2/Data-Cleansing/blob/main/2318100DataCleansing.ipynb\" target=\"_parent\"><img src=\"https://colab.research.google.com/assets/colab-badge.svg\" alt=\"Open In Colab\"/></a>"
      ]
    },
    {
      "cell_type": "markdown",
      "source": [
        "1. Import Library"
      ],
      "metadata": {
        "id": "mdll25SKCeT9"
      }
    },
    {
      "cell_type": "code",
      "source": [
        "import pandas as pd\n",
        "import re\n",
        "from google.colab import drive, files"
      ],
      "metadata": {
        "id": "wi8wxiVBCjbC"
      },
      "execution_count": null,
      "outputs": []
    },
    {
      "cell_type": "markdown",
      "source": [
        "2. Menyambungkan ke google drive"
      ],
      "metadata": {
        "id": "mSc67glPCpI_"
      }
    },
    {
      "cell_type": "code",
      "source": [
        "drive.mount('/content/drive')"
      ],
      "metadata": {
        "colab": {
          "base_uri": "https://localhost:8080/"
        },
        "id": "RJTqkCuKDEtf",
        "outputId": "8578d546-8e0f-43a0-8735-fe709d06aa07"
      },
      "execution_count": null,
      "outputs": [
        {
          "output_type": "stream",
          "name": "stdout",
          "text": [
            "Mounted at /content/drive\n"
          ]
        }
      ]
    },
    {
      "cell_type": "markdown",
      "source": [
        "3. Membaca data set"
      ],
      "metadata": {
        "id": "1CQjVh8HDP6i"
      }
    },
    {
      "cell_type": "code",
      "source": [
        "file_path = '/content/drive/MyDrive/Colab Notebooks/Dataset_Mahasiswa_Messy_StatusMenikah2.csv'\n",
        "df = pd.read_csv(file_path)"
      ],
      "metadata": {
        "id": "ah0135_TDSro"
      },
      "execution_count": null,
      "outputs": []
    },
    {
      "cell_type": "markdown",
      "source": [
        "4. Membersihkan spasi berlebih pada kolom nama"
      ],
      "metadata": {
        "id": "8evNfocKDat8"
      }
    },
    {
      "cell_type": "code",
      "source": [
        "df.columns = df.columns.str.strip()"
      ],
      "metadata": {
        "id": "aD-lwvWADfdo"
      },
      "execution_count": null,
      "outputs": []
    },
    {
      "cell_type": "markdown",
      "source": [
        "5. Mencari Kolom Nama dan Status Menikah"
      ],
      "metadata": {
        "id": "TOvXtXjLDg8k"
      }
    },
    {
      "cell_type": "code",
      "source": [
        "nama_col = None\n",
        "status_col = None\n",
        "\n",
        "for col in df.columns:\n",
        "    if \"nama\" in col.lower():\n",
        "        nama_col = col\n",
        "    if \"status\" in col.lower() and \"nikah\" in col.lower():\n",
        "        status_col = col\n",
        "\n",
        "print(\"Kolom Nama  :\", nama_col)\n",
        "print(\"Kolom Status:\", status_col)"
      ],
      "metadata": {
        "colab": {
          "base_uri": "https://localhost:8080/"
        },
        "id": "4vAqDHgCDy_v",
        "outputId": "8bb761ca-f529-4841-922c-200e17d1ab79"
      },
      "execution_count": null,
      "outputs": [
        {
          "output_type": "stream",
          "name": "stdout",
          "text": [
            "Kolom Nama  : Nama\n",
            "Kolom Status: Status Menikah\n"
          ]
        }
      ]
    },
    {
      "cell_type": "markdown",
      "source": [
        "6. Fungsi membersihkan nama"
      ],
      "metadata": {
        "id": "Fqau7tQGD3Fs"
      }
    },
    {
      "cell_type": "code",
      "source": [
        "def clean_name(name):\n",
        "    name = str(name)\n",
        "\n",
        "    # Hapus teks setelah koma\n",
        "    name = re.sub(r\",.*\", \"\", name)\n",
        "\n",
        "    # Hapus gelar umum/akademik/lokal\n",
        "    name = re.sub(\n",
        "        r\"\\b(Drg?|Drs?|Dr|Ir|Hj|H|Prof|Kh|Tgk|Tgh|Ust|Ustd|Ustadz|Sp|Apt|Dt|Datuk|S\\.?\\w*|M\\.?\\w*|Ph\\.?D|Ny|Alm?|Bpk|Ibu)\\b\\.?\",\n",
        "        \"\",\n",
        "        name,\n",
        "        flags=re.IGNORECASE\n",
        "    )\n",
        "\n",
        "    # Hapus singkatan huruf + titik sebelum nama (misal: \"M. Ali\" → \"Ali\")\n",
        "    name = re.sub(r\"\\b[A-Z]\\.\\s*(?=[A-Z][a-z])\", \"\", name)\n",
        "\n",
        "    # Hapus singkatan huruf tunggal (misal: \"A.\" atau \"B\")\n",
        "    name = re.sub(r\"\\b[A-Z]\\b\", \"\", name)\n",
        "\n",
        "    # Hapus \"Bin\" / \"Binti\" di awal nama\n",
        "    name = re.sub(r\"^(Bin|Binti)\\s+\", \"\", name, flags=re.IGNORECASE)\n",
        "\n",
        "    # Hapus titik yang tersisa\n",
        "    name = name.replace(\".\", \" \")\n",
        "\n",
        "    # Rapikan spasi\n",
        "    name = re.sub(r\"\\s+\", \" \", name)\n",
        "\n",
        "    # Kapitalisasi awal tiap kata\n",
        "    name = name.title().strip()\n",
        "\n",
        "    # Jika kosong → isi default\n",
        "    if name.strip() == \"\":\n",
        "        return \"Tidak Diketahui\"\n",
        "\n",
        "    return name"
      ],
      "metadata": {
        "id": "imtQPG2SEWHH"
      },
      "execution_count": null,
      "outputs": []
    },
    {
      "cell_type": "markdown",
      "source": [
        "7. Fungsi membersihkan status menikah"
      ],
      "metadata": {
        "id": "Gu2V1Qa1EaTg"
      }
    },
    {
      "cell_type": "code",
      "source": [
        "def clean_status(status):\n",
        "    status = str(status).lower().strip()\n",
        "\n",
        "    menikah_keywords = [\"menikah\", \"menikh\", \"sudah menikah\", \"married\"]\n",
        "    belum_keywords = [\"belum menikah\", \"single\", \"tidak menikah\", \"b belum menikah\"]\n",
        "\n",
        "    if any(k in status for k in menikah_keywords) and \"belum\" not in status:\n",
        "        return \"Menikah\"\n",
        "    elif any(k in status for k in belum_keywords) or \"belum\" in status:\n",
        "        return \"Belum Menikah\"\n",
        "    else:\n",
        "        return \"Belum Menikah\""
      ],
      "metadata": {
        "id": "P11FIEKMEeSX"
      },
      "execution_count": null,
      "outputs": []
    },
    {
      "cell_type": "markdown",
      "source": [
        "8. Priview data sebelum cleansing"
      ],
      "metadata": {
        "id": "MCPzqBKoElMP"
      }
    },
    {
      "cell_type": "code",
      "source": [
        "print(\"\\n===== DATA SEBELUM CLEANSING =====\")\n",
        "print(df[[nama_col, status_col]].head(10))"
      ],
      "metadata": {
        "colab": {
          "base_uri": "https://localhost:8080/"
        },
        "id": "VtNgcmpKEofv",
        "outputId": "8dfdc881-c3cd-4ff8-f4e9-948511036c9e"
      },
      "execution_count": null,
      "outputs": [
        {
          "output_type": "stream",
          "name": "stdout",
          "text": [
            "\n",
            "===== DATA SEBELUM CLEANSING =====\n",
            "                 Nama Status Menikah\n",
            "0  Anastasia Pradipta        Menikah\n",
            "1     Tidak Diketahui        Menikah\n",
            "2             Narpati        Menikah\n",
            "3           Bahuwirya  Belum Menikah\n",
            "4          Puti Raisa  Belum Menikah\n",
            "5     Hartaka Nugroho        Menikah\n",
            "6    Viktor Wulandari  Belum Menikah\n",
            "7    Genta Zulkarnain  Belum Menikah\n",
            "8      Oliva Wahyudin  Belum Menikah\n",
            "9               Gilda        Menikah\n"
          ]
        }
      ]
    },
    {
      "cell_type": "markdown",
      "source": [
        "9. Menerapkan cleansing"
      ],
      "metadata": {
        "id": "6ugrfg3KEqoG"
      }
    },
    {
      "cell_type": "code",
      "source": [
        "if nama_col:\n",
        "    df[nama_col] = df[nama_col].apply(clean_name)\n",
        "\n",
        "if status_col:\n",
        "    df[status_col] = df[status_col].apply(clean_status)"
      ],
      "metadata": {
        "id": "xV4Nyx7-ExAe"
      },
      "execution_count": null,
      "outputs": []
    },
    {
      "cell_type": "markdown",
      "source": [
        "10. Priview sesudah di cleansing"
      ],
      "metadata": {
        "id": "nzf99EiVE1hv"
      }
    },
    {
      "cell_type": "code",
      "source": [
        "print(\"\\n===== DATA SESUDAH CLEANSING =====\")\n",
        "print(df[[nama_col, status_col]].head(10))"
      ],
      "metadata": {
        "colab": {
          "base_uri": "https://localhost:8080/"
        },
        "id": "6eMGKuuIE6Qw",
        "outputId": "eb6edb3b-8a66-48f6-f30f-082d0197438f"
      },
      "execution_count": null,
      "outputs": [
        {
          "output_type": "stream",
          "name": "stdout",
          "text": [
            "\n",
            "===== DATA SESUDAH CLEANSING =====\n",
            "                 Nama Status Menikah\n",
            "0  Anastasia Pradipta        Menikah\n",
            "1     Tidak Diketahui        Menikah\n",
            "2             Narpati        Menikah\n",
            "3           Bahuwirya  Belum Menikah\n",
            "4          Puti Raisa  Belum Menikah\n",
            "5     Hartaka Nugroho        Menikah\n",
            "6    Viktor Wulandari  Belum Menikah\n",
            "7    Genta Zulkarnain  Belum Menikah\n",
            "8      Oliva Wahyudin  Belum Menikah\n",
            "9               Gilda        Menikah\n"
          ]
        }
      ]
    },
    {
      "cell_type": "markdown",
      "source": [
        "11. Menyimpan hasil cleansing"
      ],
      "metadata": {
        "id": "uQDib82qE_qi"
      }
    },
    {
      "cell_type": "code",
      "source": [
        "output_path = '/content/drive/MyDrive/Colab Notebooks/Dataset_Mahasiswa_Cleansed.csv'\n",
        "df.to_csv(output_path, index=False)\n",
        "print(\"\\nFile hasil cleansing berhasil disimpan di:\", output_path)"
      ],
      "metadata": {
        "colab": {
          "base_uri": "https://localhost:8080/"
        },
        "id": "D1kmMQ73FElo",
        "outputId": "1631fd7a-f42e-4a3f-c766-2866bc5dbcba"
      },
      "execution_count": null,
      "outputs": [
        {
          "output_type": "stream",
          "name": "stdout",
          "text": [
            "\n",
            "File hasil cleansing berhasil disimpan di: /content/drive/MyDrive/Colab Notebooks/Dataset_Mahasiswa_Cleansed.csv\n"
          ]
        }
      ]
    },
    {
      "cell_type": "markdown",
      "source": [
        "12. Mendowload langsung ke laptop"
      ],
      "metadata": {
        "id": "48YuRtGVFHN0"
      }
    },
    {
      "cell_type": "code",
      "source": [
        "files.download(output_path)"
      ],
      "metadata": {
        "colab": {
          "base_uri": "https://localhost:8080/",
          "height": 17
        },
        "id": "LFYP7E-qFMoU",
        "outputId": "7444b5a5-93ef-49ab-952f-d7a9052511cf"
      },
      "execution_count": null,
      "outputs": [
        {
          "output_type": "display_data",
          "data": {
            "text/plain": [
              "<IPython.core.display.Javascript object>"
            ],
            "application/javascript": [
              "\n",
              "    async function download(id, filename, size) {\n",
              "      if (!google.colab.kernel.accessAllowed) {\n",
              "        return;\n",
              "      }\n",
              "      const div = document.createElement('div');\n",
              "      const label = document.createElement('label');\n",
              "      label.textContent = `Downloading \"${filename}\": `;\n",
              "      div.appendChild(label);\n",
              "      const progress = document.createElement('progress');\n",
              "      progress.max = size;\n",
              "      div.appendChild(progress);\n",
              "      document.body.appendChild(div);\n",
              "\n",
              "      const buffers = [];\n",
              "      let downloaded = 0;\n",
              "\n",
              "      const channel = await google.colab.kernel.comms.open(id);\n",
              "      // Send a message to notify the kernel that we're ready.\n",
              "      channel.send({})\n",
              "\n",
              "      for await (const message of channel.messages) {\n",
              "        // Send a message to notify the kernel that we're ready.\n",
              "        channel.send({})\n",
              "        if (message.buffers) {\n",
              "          for (const buffer of message.buffers) {\n",
              "            buffers.push(buffer);\n",
              "            downloaded += buffer.byteLength;\n",
              "            progress.value = downloaded;\n",
              "          }\n",
              "        }\n",
              "      }\n",
              "      const blob = new Blob(buffers, {type: 'application/binary'});\n",
              "      const a = document.createElement('a');\n",
              "      a.href = window.URL.createObjectURL(blob);\n",
              "      a.download = filename;\n",
              "      div.appendChild(a);\n",
              "      a.click();\n",
              "      div.remove();\n",
              "    }\n",
              "  "
            ]
          },
          "metadata": {}
        },
        {
          "output_type": "display_data",
          "data": {
            "text/plain": [
              "<IPython.core.display.Javascript object>"
            ],
            "application/javascript": [
              "download(\"download_a4750fe2-a49f-402a-a3e4-3f3ff2798b03\", \"Dataset_Mahasiswa_Cleansed.csv\", 89814)"
            ]
          },
          "metadata": {}
        }
      ]
    }
  ]
}